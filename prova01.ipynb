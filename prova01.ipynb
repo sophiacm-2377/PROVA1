{
 "cells": [
  {
   "cell_type": "code",
   "execution_count": 1,
   "id": "a8813cbb-396f-43c0-90ea-a1f2785cfc8a",
   "metadata": {},
   "outputs": [
    {
     "name": "stdin",
     "output_type": "stream",
     "text": [
      "Digite o primeiro valor:  20\n",
      "Digite o segundo valor:  30\n",
      "Digite o terceiro valor:  35\n"
     ]
    },
    {
     "name": "stdout",
     "output_type": "stream",
     "text": [
      "A média dos dois maiores números é: 32.5\n"
     ]
    }
   ],
   "source": [
    "# Recebe os três valores\n",
    "x1 = int(input(\"Digite o primeiro valor: \"))\n",
    "x2 = int(input(\"Digite o segundo valor: \"))\n",
    "x3 = int(input(\"Digite o terceiro valor: \"))\n",
    "\n",
    "# Valor menor \n",
    "menor = x1\n",
    "if x2 < menor:\n",
    "    menor = x2\n",
    "if x3< menor:\n",
    "    menor = x3\n",
    "# teste\n",
    "soma = (x1 + x2 + x3) - menor\n",
    "\n",
    "# Calcula a média\n",
    "media = soma / 2\n",
    " \n",
    "# Retorna o resultado\n",
    "print(f\"A média dos dois maiores números é: {media}\")"
   ]
  },
  {
   "cell_type": "code",
   "execution_count": null,
   "id": "04c32ca2-c502-4eb2-94b9-ab306e9608bf",
   "metadata": {},
   "outputs": [],
   "source": []
  }
 ],
 "metadata": {
  "kernelspec": {
   "display_name": "Python 3 (ipykernel)",
   "language": "python",
   "name": "python3"
  },
  "language_info": {
   "codemirror_mode": {
    "name": "ipython",
    "version": 3
   },
   "file_extension": ".py",
   "mimetype": "text/x-python",
   "name": "python",
   "nbconvert_exporter": "python",
   "pygments_lexer": "ipython3",
   "version": "3.12.7"
  }
 },
 "nbformat": 4,
 "nbformat_minor": 5
}
